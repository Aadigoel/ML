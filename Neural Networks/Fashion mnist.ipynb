{
 "cells": [
  {
   "cell_type": "code",
   "execution_count": 1,
   "id": "54da4ed7",
   "metadata": {},
   "outputs": [],
   "source": [
    "import tensorflow as tf"
   ]
  },
  {
   "cell_type": "code",
   "execution_count": 2,
   "id": "369fdb58",
   "metadata": {},
   "outputs": [],
   "source": [
    "mnist = tf.keras.datasets.fashion_mnist"
   ]
  },
  {
   "cell_type": "code",
   "execution_count": 3,
   "id": "f0a64d06",
   "metadata": {},
   "outputs": [],
   "source": [
    "(training_images, training_labels), (test_images, test_labels) = mnist.load_data()"
   ]
  },
  {
   "cell_type": "code",
   "execution_count": 4,
   "id": "9227ed16",
   "metadata": {},
   "outputs": [
    {
     "output_type": "stream",
     "name": "stdout",
     "text": [
      "9\n[[  0   0   0   0   0   0   0   0   0   0   0   0   0   0   0   0   0   0\n    0   0   0   0   0   0   0   0   0   0]\n [  0   0   0   0   0   0   0   0   0   0   0   0   0   0   0   0   0   0\n    0   0   0   0   0   0   0   0   0   0]\n [  0   0   0   0   0   0   0   0   0   0   0   0   0   0   0   0   0   0\n    0   0   0   0   0   0   0   0   0   0]\n [  0   0   0   0   0   0   0   0   0   0   0   0   1   0   0  13  73   0\n    0   1   4   0   0   0   0   1   1   0]\n [  0   0   0   0   0   0   0   0   0   0   0   0   3   0  36 136 127  62\n   54   0   0   0   1   3   4   0   0   3]\n [  0   0   0   0   0   0   0   0   0   0   0   0   6   0 102 204 176 134\n  144 123  23   0   0   0   0  12  10   0]\n [  0   0   0   0   0   0   0   0   0   0   0   0   0   0 155 236 207 178\n  107 156 161 109  64  23  77 130  72  15]\n [  0   0   0   0   0   0   0   0   0   0   0   1   0  69 207 223 218 216\n  216 163 127 121 122 146 141  88 172  66]\n [  0   0   0   0   0   0   0   0   0   1   1   1   0 200 232 232 233 229\n  223 223 215 213 164 127 123 196 229   0]\n [  0   0   0   0   0   0   0   0   0   0   0   0   0 183 225 216 223 228\n  235 227 224 222 224 221 223 245 173   0]\n [  0   0   0   0   0   0   0   0   0   0   0   0   0 193 228 218 213 198\n  180 212 210 211 213 223 220 243 202   0]\n [  0   0   0   0   0   0   0   0   0   1   3   0  12 219 220 212 218 192\n  169 227 208 218 224 212 226 197 209  52]\n [  0   0   0   0   0   0   0   0   0   0   6   0  99 244 222 220 218 203\n  198 221 215 213 222 220 245 119 167  56]\n [  0   0   0   0   0   0   0   0   0   4   0   0  55 236 228 230 228 240\n  232 213 218 223 234 217 217 209  92   0]\n [  0   0   1   4   6   7   2   0   0   0   0   0 237 226 217 223 222 219\n  222 221 216 223 229 215 218 255  77   0]\n [  0   3   0   0   0   0   0   0   0  62 145 204 228 207 213 221 218 208\n  211 218 224 223 219 215 224 244 159   0]\n [  0   0   0   0  18  44  82 107 189 228 220 222 217 226 200 205 211 230\n  224 234 176 188 250 248 233 238 215   0]\n [  0  57 187 208 224 221 224 208 204 214 208 209 200 159 245 193 206 223\n  255 255 221 234 221 211 220 232 246   0]\n [  3 202 228 224 221 211 211 214 205 205 205 220 240  80 150 255 229 221\n  188 154 191 210 204 209 222 228 225   0]\n [ 98 233 198 210 222 229 229 234 249 220 194 215 217 241  65  73 106 117\n  168 219 221 215 217 223 223 224 229  29]\n [ 75 204 212 204 193 205 211 225 216 185 197 206 198 213 240 195 227 245\n  239 223 218 212 209 222 220 221 230  67]\n [ 48 203 183 194 213 197 185 190 194 192 202 214 219 221 220 236 225 216\n  199 206 186 181 177 172 181 205 206 115]\n [  0 122 219 193 179 171 183 196 204 210 213 207 211 210 200 196 194 191\n  195 191 198 192 176 156 167 177 210  92]\n [  0   0  74 189 212 191 175 172 175 181 185 188 189 188 193 198 204 209\n  210 210 211 188 188 194 192 216 170   0]\n [  2   0   0   0  66 200 222 237 239 242 246 243 244 221 220 193 191 179\n  182 182 181 176 166 168  99  58   0   0]\n [  0   0   0   0   0   0   0  40  61  44  72  41  35   0   0   0   0   0\n    0   0   0   0   0   0   0   0   0   0]\n [  0   0   0   0   0   0   0   0   0   0   0   0   0   0   0   0   0   0\n    0   0   0   0   0   0   0   0   0   0]\n [  0   0   0   0   0   0   0   0   0   0   0   0   0   0   0   0   0   0\n    0   0   0   0   0   0   0   0   0   0]]\n"
     ]
    },
    {
     "output_type": "display_data",
     "data": {
      "text/plain": "<Figure size 640x480 with 1 Axes>",
      "image/svg+xml": "<?xml version=\"1.0\" encoding=\"utf-8\" standalone=\"no\"?>\r\n<!DOCTYPE svg PUBLIC \"-//W3C//DTD SVG 1.1//EN\"\r\n  \"http://www.w3.org/Graphics/SVG/1.1/DTD/svg11.dtd\">\r\n<svg height=\"297.190125pt\" version=\"1.1\" viewBox=\"0 0 300.237 297.190125\" width=\"300.237pt\" xmlns=\"http://www.w3.org/2000/svg\" xmlns:xlink=\"http://www.w3.org/1999/xlink\">\r\n <metadata>\r\n  <rdf:RDF xmlns:cc=\"http://creativecommons.org/ns#\" xmlns:dc=\"http://purl.org/dc/elements/1.1/\" xmlns:rdf=\"http://www.w3.org/1999/02/22-rdf-syntax-ns#\">\r\n   <cc:Work>\r\n    <dc:type rdf:resource=\"http://purl.org/dc/dcmitype/StillImage\"/>\r\n    <dc:date>2021-05-17T21:50:16.117866</dc:date>\r\n    <dc:format>image/svg+xml</dc:format>\r\n    <dc:creator>\r\n     <cc:Agent>\r\n      <dc:title>Matplotlib v3.4.1, https://matplotlib.org/</dc:title>\r\n     </cc:Agent>\r\n    </dc:creator>\r\n   </cc:Work>\r\n  </rdf:RDF>\r\n </metadata>\r\n <defs>\r\n  <style type=\"text/css\">*{stroke-linecap:butt;stroke-linejoin:round;}</style>\r\n </defs>\r\n <g id=\"figure_1\">\r\n  <g id=\"patch_1\">\r\n   <path d=\"M -0 297.190125 \r\nL 300.237 297.190125 \r\nL 300.237 0 \r\nL -0 0 \r\nz\r\n\"/>\r\n  </g>\r\n  <g id=\"axes_1\">\r\n   <g id=\"patch_2\">\r\n    <path d=\"M 26.925 273.312 \r\nL 293.037 273.312 \r\nL 293.037 7.2 \r\nL 26.925 7.2 \r\nz\r\n\"/>\r\n   </g>\r\n   <g clip-path=\"url(#p8c5440ec82)\">\r\n    <image height=\"266.4\" id=\"image3a88a4b8c7\" transform=\"scale(1 -1)translate(0 -266.4)\" width=\"266.4\" x=\"26.925\" xlink:href=\"data:image/png;base64,\r\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\" y=\"-6.912\"/>\r\n   </g>\r\n   <g id=\"matplotlib.axis_1\">\r\n    <g id=\"xtick_1\">\r\n     <g id=\"line2d_1\">\r\n      <defs>\r\n       <path d=\"M 0 0 \r\nL 0 3.5 \r\n\" id=\"m8bf41c20d3\" style=\"stroke:#ffffff;stroke-width:0.8;\"/>\r\n      </defs>\r\n      <g>\r\n       <use style=\"fill:#ffffff;stroke:#ffffff;stroke-width:0.8;\" x=\"31.677\" xlink:href=\"#m8bf41c20d3\" y=\"273.312\"/>\r\n      </g>\r\n     </g>\r\n     <g id=\"text_1\">\r\n      <!-- 0 -->\r\n      <g style=\"fill:#ffffff;\" transform=\"translate(28.49575 287.910437)scale(0.1 -0.1)\">\r\n       <defs>\r\n        <path d=\"M 2034 4250 \r\nQ 1547 4250 1301 3770 \r\nQ 1056 3291 1056 2328 \r\nQ 1056 1369 1301 889 \r\nQ 1547 409 2034 409 \r\nQ 2525 409 2770 889 \r\nQ 3016 1369 3016 2328 \r\nQ 3016 3291 2770 3770 \r\nQ 2525 4250 2034 4250 \r\nz\r\nM 2034 4750 \r\nQ 2819 4750 3233 4129 \r\nQ 3647 3509 3647 2328 \r\nQ 3647 1150 3233 529 \r\nQ 2819 -91 2034 -91 \r\nQ 1250 -91 836 529 \r\nQ 422 1150 422 2328 \r\nQ 422 3509 836 4129 \r\nQ 1250 4750 2034 4750 \r\nz\r\n\" id=\"DejaVuSans-30\" transform=\"scale(0.015625)\"/>\r\n       </defs>\r\n       <use xlink:href=\"#DejaVuSans-30\"/>\r\n      </g>\r\n     </g>\r\n    </g>\r\n    <g id=\"xtick_2\">\r\n     <g id=\"line2d_2\">\r\n      <g>\r\n       <use style=\"fill:#ffffff;stroke:#ffffff;stroke-width:0.8;\" x=\"79.197\" xlink:href=\"#m8bf41c20d3\" y=\"273.312\"/>\r\n      </g>\r\n     </g>\r\n     <g id=\"text_2\">\r\n      <!-- 5 -->\r\n      <g style=\"fill:#ffffff;\" transform=\"translate(76.01575 287.910437)scale(0.1 -0.1)\">\r\n       <defs>\r\n        <path d=\"M 691 4666 \r\nL 3169 4666 \r\nL 3169 4134 \r\nL 1269 4134 \r\nL 1269 2991 \r\nQ 1406 3038 1543 3061 \r\nQ 1681 3084 1819 3084 \r\nQ 2600 3084 3056 2656 \r\nQ 3513 2228 3513 1497 \r\nQ 3513 744 3044 326 \r\nQ 2575 -91 1722 -91 \r\nQ 1428 -91 1123 -41 \r\nQ 819 9 494 109 \r\nL 494 744 \r\nQ 775 591 1075 516 \r\nQ 1375 441 1709 441 \r\nQ 2250 441 2565 725 \r\nQ 2881 1009 2881 1497 \r\nQ 2881 1984 2565 2268 \r\nQ 2250 2553 1709 2553 \r\nQ 1456 2553 1204 2497 \r\nQ 953 2441 691 2322 \r\nL 691 4666 \r\nz\r\n\" id=\"DejaVuSans-35\" transform=\"scale(0.015625)\"/>\r\n       </defs>\r\n       <use xlink:href=\"#DejaVuSans-35\"/>\r\n      </g>\r\n     </g>\r\n    </g>\r\n    <g id=\"xtick_3\">\r\n     <g id=\"line2d_3\">\r\n      <g>\r\n       <use style=\"fill:#ffffff;stroke:#ffffff;stroke-width:0.8;\" x=\"126.717\" xlink:href=\"#m8bf41c20d3\" y=\"273.312\"/>\r\n      </g>\r\n     </g>\r\n     <g id=\"text_3\">\r\n      <!-- 10 -->\r\n      <g style=\"fill:#ffffff;\" transform=\"translate(120.3545 287.910437)scale(0.1 -0.1)\">\r\n       <defs>\r\n        <path d=\"M 794 531 \r\nL 1825 531 \r\nL 1825 4091 \r\nL 703 3866 \r\nL 703 4441 \r\nL 1819 4666 \r\nL 2450 4666 \r\nL 2450 531 \r\nL 3481 531 \r\nL 3481 0 \r\nL 794 0 \r\nL 794 531 \r\nz\r\n\" id=\"DejaVuSans-31\" transform=\"scale(0.015625)\"/>\r\n       </defs>\r\n       <use xlink:href=\"#DejaVuSans-31\"/>\r\n       <use x=\"63.623047\" xlink:href=\"#DejaVuSans-30\"/>\r\n      </g>\r\n     </g>\r\n    </g>\r\n    <g id=\"xtick_4\">\r\n     <g id=\"line2d_4\">\r\n      <g>\r\n       <use style=\"fill:#ffffff;stroke:#ffffff;stroke-width:0.8;\" x=\"174.237\" xlink:href=\"#m8bf41c20d3\" y=\"273.312\"/>\r\n      </g>\r\n     </g>\r\n     <g id=\"text_4\">\r\n      <!-- 15 -->\r\n      <g style=\"fill:#ffffff;\" transform=\"translate(167.8745 287.910437)scale(0.1 -0.1)\">\r\n       <use xlink:href=\"#DejaVuSans-31\"/>\r\n       <use x=\"63.623047\" xlink:href=\"#DejaVuSans-35\"/>\r\n      </g>\r\n     </g>\r\n    </g>\r\n    <g id=\"xtick_5\">\r\n     <g id=\"line2d_5\">\r\n      <g>\r\n       <use style=\"fill:#ffffff;stroke:#ffffff;stroke-width:0.8;\" x=\"221.757\" xlink:href=\"#m8bf41c20d3\" y=\"273.312\"/>\r\n      </g>\r\n     </g>\r\n     <g id=\"text_5\">\r\n      <!-- 20 -->\r\n      <g style=\"fill:#ffffff;\" transform=\"translate(215.3945 287.910437)scale(0.1 -0.1)\">\r\n       <defs>\r\n        <path d=\"M 1228 531 \r\nL 3431 531 \r\nL 3431 0 \r\nL 469 0 \r\nL 469 531 \r\nQ 828 903 1448 1529 \r\nQ 2069 2156 2228 2338 \r\nQ 2531 2678 2651 2914 \r\nQ 2772 3150 2772 3378 \r\nQ 2772 3750 2511 3984 \r\nQ 2250 4219 1831 4219 \r\nQ 1534 4219 1204 4116 \r\nQ 875 4013 500 3803 \r\nL 500 4441 \r\nQ 881 4594 1212 4672 \r\nQ 1544 4750 1819 4750 \r\nQ 2544 4750 2975 4387 \r\nQ 3406 4025 3406 3419 \r\nQ 3406 3131 3298 2873 \r\nQ 3191 2616 2906 2266 \r\nQ 2828 2175 2409 1742 \r\nQ 1991 1309 1228 531 \r\nz\r\n\" id=\"DejaVuSans-32\" transform=\"scale(0.015625)\"/>\r\n       </defs>\r\n       <use xlink:href=\"#DejaVuSans-32\"/>\r\n       <use x=\"63.623047\" xlink:href=\"#DejaVuSans-30\"/>\r\n      </g>\r\n     </g>\r\n    </g>\r\n    <g id=\"xtick_6\">\r\n     <g id=\"line2d_6\">\r\n      <g>\r\n       <use style=\"fill:#ffffff;stroke:#ffffff;stroke-width:0.8;\" x=\"269.277\" xlink:href=\"#m8bf41c20d3\" y=\"273.312\"/>\r\n      </g>\r\n     </g>\r\n     <g id=\"text_6\">\r\n      <!-- 25 -->\r\n      <g style=\"fill:#ffffff;\" transform=\"translate(262.9145 287.910437)scale(0.1 -0.1)\">\r\n       <use xlink:href=\"#DejaVuSans-32\"/>\r\n       <use x=\"63.623047\" xlink:href=\"#DejaVuSans-35\"/>\r\n      </g>\r\n     </g>\r\n    </g>\r\n   </g>\r\n   <g id=\"matplotlib.axis_2\">\r\n    <g id=\"ytick_1\">\r\n     <g id=\"line2d_7\">\r\n      <defs>\r\n       <path d=\"M 0 0 \r\nL -3.5 0 \r\n\" id=\"me4bb335082\" style=\"stroke:#ffffff;stroke-width:0.8;\"/>\r\n      </defs>\r\n      <g>\r\n       <use style=\"fill:#ffffff;stroke:#ffffff;stroke-width:0.8;\" x=\"26.925\" xlink:href=\"#me4bb335082\" y=\"11.952\"/>\r\n      </g>\r\n     </g>\r\n     <g id=\"text_7\">\r\n      <!-- 0 -->\r\n      <g style=\"fill:#ffffff;\" transform=\"translate(13.5625 15.751219)scale(0.1 -0.1)\">\r\n       <use xlink:href=\"#DejaVuSans-30\"/>\r\n      </g>\r\n     </g>\r\n    </g>\r\n    <g id=\"ytick_2\">\r\n     <g id=\"line2d_8\">\r\n      <g>\r\n       <use style=\"fill:#ffffff;stroke:#ffffff;stroke-width:0.8;\" x=\"26.925\" xlink:href=\"#me4bb335082\" y=\"59.472\"/>\r\n      </g>\r\n     </g>\r\n     <g id=\"text_8\">\r\n      <!-- 5 -->\r\n      <g style=\"fill:#ffffff;\" transform=\"translate(13.5625 63.271219)scale(0.1 -0.1)\">\r\n       <use xlink:href=\"#DejaVuSans-35\"/>\r\n      </g>\r\n     </g>\r\n    </g>\r\n    <g id=\"ytick_3\">\r\n     <g id=\"line2d_9\">\r\n      <g>\r\n       <use style=\"fill:#ffffff;stroke:#ffffff;stroke-width:0.8;\" x=\"26.925\" xlink:href=\"#me4bb335082\" y=\"106.992\"/>\r\n      </g>\r\n     </g>\r\n     <g id=\"text_9\">\r\n      <!-- 10 -->\r\n      <g style=\"fill:#ffffff;\" transform=\"translate(7.2 110.791219)scale(0.1 -0.1)\">\r\n       <use xlink:href=\"#DejaVuSans-31\"/>\r\n       <use x=\"63.623047\" xlink:href=\"#DejaVuSans-30\"/>\r\n      </g>\r\n     </g>\r\n    </g>\r\n    <g id=\"ytick_4\">\r\n     <g id=\"line2d_10\">\r\n      <g>\r\n       <use style=\"fill:#ffffff;stroke:#ffffff;stroke-width:0.8;\" x=\"26.925\" xlink:href=\"#me4bb335082\" y=\"154.512\"/>\r\n      </g>\r\n     </g>\r\n     <g id=\"text_10\">\r\n      <!-- 15 -->\r\n      <g style=\"fill:#ffffff;\" transform=\"translate(7.2 158.311219)scale(0.1 -0.1)\">\r\n       <use xlink:href=\"#DejaVuSans-31\"/>\r\n       <use x=\"63.623047\" xlink:href=\"#DejaVuSans-35\"/>\r\n      </g>\r\n     </g>\r\n    </g>\r\n    <g id=\"ytick_5\">\r\n     <g id=\"line2d_11\">\r\n      <g>\r\n       <use style=\"fill:#ffffff;stroke:#ffffff;stroke-width:0.8;\" x=\"26.925\" xlink:href=\"#me4bb335082\" y=\"202.032\"/>\r\n      </g>\r\n     </g>\r\n     <g id=\"text_11\">\r\n      <!-- 20 -->\r\n      <g style=\"fill:#ffffff;\" transform=\"translate(7.2 205.831219)scale(0.1 -0.1)\">\r\n       <use xlink:href=\"#DejaVuSans-32\"/>\r\n       <use x=\"63.623047\" xlink:href=\"#DejaVuSans-30\"/>\r\n      </g>\r\n     </g>\r\n    </g>\r\n    <g id=\"ytick_6\">\r\n     <g id=\"line2d_12\">\r\n      <g>\r\n       <use style=\"fill:#ffffff;stroke:#ffffff;stroke-width:0.8;\" x=\"26.925\" xlink:href=\"#me4bb335082\" y=\"249.552\"/>\r\n      </g>\r\n     </g>\r\n     <g id=\"text_12\">\r\n      <!-- 25 -->\r\n      <g style=\"fill:#ffffff;\" transform=\"translate(7.2 253.351219)scale(0.1 -0.1)\">\r\n       <use xlink:href=\"#DejaVuSans-32\"/>\r\n       <use x=\"63.623047\" xlink:href=\"#DejaVuSans-35\"/>\r\n      </g>\r\n     </g>\r\n    </g>\r\n   </g>\r\n   <g id=\"patch_3\">\r\n    <path d=\"M 26.925 273.312 \r\nL 26.925 7.2 \r\n\" style=\"fill:none;stroke:#ffffff;stroke-linecap:square;stroke-linejoin:miter;stroke-width:0.8;\"/>\r\n   </g>\r\n   <g id=\"patch_4\">\r\n    <path d=\"M 293.037 273.312 \r\nL 293.037 7.2 \r\n\" style=\"fill:none;stroke:#ffffff;stroke-linecap:square;stroke-linejoin:miter;stroke-width:0.8;\"/>\r\n   </g>\r\n   <g id=\"patch_5\">\r\n    <path d=\"M 26.925 273.312 \r\nL 293.037 273.312 \r\n\" style=\"fill:none;stroke:#ffffff;stroke-linecap:square;stroke-linejoin:miter;stroke-width:0.8;\"/>\r\n   </g>\r\n   <g id=\"patch_6\">\r\n    <path d=\"M 26.925 7.2 \r\nL 293.037 7.2 \r\n\" style=\"fill:none;stroke:#ffffff;stroke-linecap:square;stroke-linejoin:miter;stroke-width:0.8;\"/>\r\n   </g>\r\n  </g>\r\n </g>\r\n <defs>\r\n  <clipPath id=\"p8c5440ec82\">\r\n   <rect height=\"266.112\" width=\"266.112\" x=\"26.925\" y=\"7.2\"/>\r\n  </clipPath>\r\n </defs>\r\n</svg>\r\n",
      "image/png": "[encoded data removed]"
     },
     "metadata": {}
    }
   ],
   "source": [
    "import matplotlib.pyplot as plt\n",
    "plt.imshow(training_images[0])\n",
    "print(training_labels[0])\n",
    "print(training_images[0])"
   ]
  },
  {
   "cell_type": "markdown",
   "id": "f1df2577",
   "metadata": {},
   "source": [
    "#### Normalization (i.e. changing all the above integer values to values between 0 and 1)"
   ]
  },
  {
   "cell_type": "code",
   "execution_count": 5,
   "id": "6b225d3a",
   "metadata": {},
   "outputs": [],
   "source": [
    "#training_images = training_images/255\n",
    "#test_images = test_images/255"
   ]
  },
  {
   "cell_type": "code",
   "execution_count": 6,
   "id": "826c2faf",
   "metadata": {},
   "outputs": [],
   "source": [
    "model = tf.keras.models.Sequential([tf.keras.layers.Flatten(),\n",
    "                                    tf.keras.layers.Dense(128, activation = tf.nn.relu),\n",
    "                                   tf.keras.layers.Dense(10, activation = tf.nn.softmax)])"
   ]
  },
  {
   "cell_type": "markdown",
   "id": "b083c321",
   "metadata": {},
   "source": [
    "#### Training the model"
   ]
  },
  {
   "cell_type": "code",
   "execution_count": 7,
   "id": "ae99295a",
   "metadata": {},
   "outputs": [
    {
     "output_type": "stream",
     "name": "stdout",
     "text": [
      "Epoch 1/10\n",
      "1875/1875 [==============================] - 6s 3ms/step - loss: 3.3297 - accuracy: 0.6767\n",
      "Epoch 2/10\n",
      "1875/1875 [==============================] - 5s 3ms/step - loss: 0.7225 - accuracy: 0.7364\n",
      "Epoch 3/10\n",
      "1875/1875 [==============================] - 6s 3ms/step - loss: 0.6284 - accuracy: 0.7766\n",
      "Epoch 4/10\n",
      "1875/1875 [==============================] - 5s 3ms/step - loss: 0.5517 - accuracy: 0.8100\n",
      "Epoch 5/10\n",
      "1875/1875 [==============================] - 5s 3ms/step - loss: 0.5230 - accuracy: 0.8219\n",
      "Epoch 6/10\n",
      "1875/1875 [==============================] - 4s 2ms/step - loss: 0.5106 - accuracy: 0.8286\n",
      "Epoch 7/10\n",
      "1875/1875 [==============================] - 4s 2ms/step - loss: 0.5052 - accuracy: 0.8318\n",
      "Epoch 8/10\n",
      "1875/1875 [==============================] - 4s 2ms/step - loss: 0.4961 - accuracy: 0.8349\n",
      "Epoch 9/10\n",
      "1875/1875 [==============================] - 4s 2ms/step - loss: 0.4755 - accuracy: 0.8384\n",
      "Epoch 10/10\n",
      "1875/1875 [==============================] - 5s 3ms/step - loss: 0.4826 - accuracy: 0.8381\n"
     ]
    },
    {
     "output_type": "execute_result",
     "data": {
      "text/plain": [
       "<tensorflow.python.keras.callbacks.History at 0x1cc5dca49a0>"
      ]
     },
     "metadata": {},
     "execution_count": 7
    }
   ],
   "source": [
    "model.compile(optimizer = tf.keras.optimizers.Adam(),\n",
    "             loss = 'sparse_categorical_crossentropy',\n",
    "             metrics = ['accuracy'])\n",
    "\n",
    "model.fit(training_images, training_labels, epochs = 10)"
   ]
  },
  {
   "cell_type": "markdown",
   "id": "c5a33a75",
   "metadata": {},
   "source": [
    "#### Evaluation of the model"
   ]
  },
  {
   "cell_type": "code",
   "execution_count": 8,
   "id": "bf26e132",
   "metadata": {},
   "outputs": [
    {
     "output_type": "stream",
     "name": "stdout",
     "text": [
      "313/313 [==============================] - 1s 1ms/step - loss: 0.5531 - accuracy: 0.8204\n"
     ]
    },
    {
     "output_type": "execute_result",
     "data": {
      "text/plain": [
       "[0.5530686378479004, 0.8203999996185303]"
      ]
     },
     "metadata": {},
     "execution_count": 8
    }
   ],
   "source": [
    "model.evaluate(test_images, test_labels)"
   ]
  },
  {
   "cell_type": "markdown",
   "id": "e258fac7",
   "metadata": {},
   "source": [
    "#### Exercises\n",
    "\n",
    "So down below, you see a list of probabilities, which add up to one. It basically indicates what class the model thinks the corresponding item belongs to"
   ]
  },
  {
   "cell_type": "code",
   "execution_count": 9,
   "id": "b5cb331b",
   "metadata": {},
   "outputs": [
    {
     "output_type": "stream",
     "name": "stdout",
     "text": [
      "[9.5904089e-04 1.6371306e-04 2.7709594e-01 6.3219722e-03 5.1713467e-01\n 4.5156392e-17 1.9829611e-01 8.4812918e-28 2.8591887e-05 9.1359796e-25]\n"
     ]
    }
   ],
   "source": [
    "classifications = model.predict(test_images)\n",
    "print(classifications[57])"
   ]
  },
  {
   "cell_type": "markdown",
   "id": "7a8a5f40",
   "metadata": {},
   "source": [
    "### Callbacks\n",
    "Callbacks are useful even in deep learning models. So now we'll use a callback to stop training the moment accuracy hits 90%\n",
    "Look them up on the internet"
   ]
  },
  {
   "cell_type": "code",
   "execution_count": 10,
   "metadata": {},
   "outputs": [
    {
     "output_type": "error",
     "ename": "ModuleNotFoundError",
     "evalue": "No module named 'CNN_2'",
     "traceback": [
      "\u001b[1;31m---------------------------------------------------------------------------\u001b[0m",
      "\u001b[1;31mModuleNotFoundError\u001b[0m                       Traceback (most recent call last)",
      "\u001b[1;32m<ipython-input-10-dd8a117b9ceb>\u001b[0m in \u001b[0;36m<module>\u001b[1;34m\u001b[0m\n\u001b[1;32m----> 1\u001b[1;33m \u001b[1;32mfrom\u001b[0m \u001b[0mCNN_2\u001b[0m \u001b[1;32mimport\u001b[0m \u001b[0mbuild_cnn_model\u001b[0m\u001b[1;33m\u001b[0m\u001b[1;33m\u001b[0m\u001b[0m\n\u001b[0m",
      "\u001b[1;31mModuleNotFoundError\u001b[0m: No module named 'CNN_2'"
     ]
    }
   ],
   "source": [
    "def build_cnn_model():\n",
    "    cnn_model = tf.keras.Sequential([\n",
    "        #first convolutional layer\n",
    "        #32 is the number of filters. It indicates the number of features that you'll be looking for\n",
    "        tf.keras.layers.Conv2D(32, 3, activation = \"relu\"),\n",
    "\n",
    "        #first pooling layer\n",
    "        tf.keras.layers.MaxPool2D(pool_size = 2, strides = 2),\n",
    "\n",
    "        #second convolutional layer\n",
    "        #Here we have 64 filter, this helps us look for more features in a downscaled image. Pretty effective\n",
    "        tf.keras.layers.Conv2D(64, 3, activation = \"relu\"),\n",
    "\n",
    "        #second pooling layer\n",
    "        tf.keras.layers.MaxPool2D(pool_size = 2, strides = 2),\n",
    "\n",
    "        #The feed forward neural network\n",
    "        #Flatten loses all spatial data because the NN takes in vectorial input\n",
    "        tf.keras.layers.Flatten(),\n",
    "        #In this one, we have 128 perceptrons receiving all 784(28x28) inputs\n",
    "        tf.keras.layers.Dense(128, activation = \"relu\"),\n",
    "        #The last layer is usually a softmax funtion for probabilitic outputs\n",
    "        #The 10 perceptrons here are equal to the number of output classes(0 to 9)\n",
    "        tf.keras.layers.Dense(10, activation = \"softmax\")\n",
    "    ])\n",
    "    return cnn_model"
   ]
  }
 ],
 "metadata": {
  "kernelspec": {
   "name": "python390jvsc74a57bd0c3e6178e7028bca6761feae666e2c90f444995e67bc37d4d7f0e94bd7e79e0f4",
   "display_name": "Python 3.9.0 64-bit"
  },
  "language_info": {
   "codemirror_mode": {
    "name": "ipython",
    "version": 3
   },
   "file_extension": ".py",
   "mimetype": "text/x-python",
   "name": "python",
   "nbconvert_exporter": "python",
   "pygments_lexer": "ipython3",
   "version": "3.9.0"
  }
 },
 "nbformat": 4,
 "nbformat_minor": 5
}